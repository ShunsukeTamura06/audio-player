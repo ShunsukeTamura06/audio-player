{
 "cells": [
  {
   "cell_type": "markdown",
   "metadata": {},
   "source": [
    "# WAVファイル連続再生オーディオプレーヤー",
    "",
    "このノートブックでは、`outputs`フォルダにある複数のWAVファイルを連続再生するためのオーディオプレーヤーを作成します。",
    "- 各WAVファイルは3秒の間隔を開けて再生",
    "- 任意のタイミングで再生/一時停止/停止が可能",
    "- 再生中のファイル名が表示される"
   ]
  },
  {
   "cell_type": "markdown",
   "metadata": {},
   "source": [
    "## 必要なライブラリをインストール",
    "必要なライブラリがインストールされていない場合は、以下のセルを実行してインストールしてください。"
   ]
  },
  {
   "cell_type": "code",
   "execution_count": null,
   "metadata": {},
   "source": [
    "# 必要なライブラリをインストール",
    "!pip install numpy ipywidgets pydub simpleaudio"
   ]
  },
  {
   "cell_type": "markdown",
   "metadata": {},
   "source": [
    "## オーディオプレーヤーの使用",
    "以下のセルを実行して、オーディオプレーヤーをインポートして使用します。"
   ]
  },
  {
   "cell_type": "code",
   "execution_count": null,
   "metadata": {},
   "source": [
    "# audio_player.pyをインポート",
    "from audio_player import create_audio_player",
    "",
    "# outputsフォルダからWAVファイルを読み込んでプレーヤーを作成",
    "player = create_audio_player(folder='outputs', gap_seconds=3)"
   ]
  },
  {
   "cell_type": "markdown",
   "metadata": {},
   "source": [
    "## カスタマイズの例",
    "オーディオプレーヤーの設定をカスタマイズする例です。"
   ]
  },
  {
   "cell_type": "code",
   "execution_count": null,
   "metadata": {},
   "source": [
    "# 異なるフォルダと間隔を指定してプレーヤーを作成する例",
    "# player_custom = create_audio_player(folder='別のフォルダ', gap_seconds=5)"
   ]
  }
 ],
 "metadata": {
  "kernelspec": {
   "display_name": "Python 3",
   "language": "python",
   "name": "python3"
  },
  "language_info": {
   "codemirror_mode": {
    "name": "ipython",
    "version": 3
   },
   "file_extension": ".py",
   "mimetype": "text/x-python",
   "name": "python",
   "nbconvert_exporter": "python",
   "pygments_lexer": "ipython3",
   "version": "3.8.10"
  }
 }
}